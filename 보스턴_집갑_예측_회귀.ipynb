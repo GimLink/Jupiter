{
  "nbformat": 4,
  "nbformat_minor": 0,
  "metadata": {
    "colab": {
      "provenance": []
    },
    "kernelspec": {
      "name": "python3",
      "display_name": "Python 3"
    },
    "language_info": {
      "name": "python"
    },
    "accelerator": "GPU",
    "gpuClass": "standard"
  },
  "cells": [
    {
      "cell_type": "code",
      "execution_count": null,
      "metadata": {
        "id": "A_KByjvHy0_W"
      },
      "outputs": [],
      "source": [
        "import keras\n",
        "import numpy as np\n",
        "import matplotlib.pyplot as plt"
      ]
    },
    {
      "cell_type": "code",
      "source": [
        "#보스턴 주택 가격 데이터셋\n",
        "\n",
        "from keras.datasets import boston_housing\n",
        "(train_data, train_labels),(test_data, test_labels) = boston_housing.load_data()"
      ],
      "metadata": {
        "colab": {
          "base_uri": "https://localhost:8080/"
        },
        "id": "HxEu65Z7y_t8",
        "outputId": "c1250844-b5ee-49cd-91eb-1e3cb72ffb97"
      },
      "execution_count": null,
      "outputs": [
        {
          "output_type": "stream",
          "name": "stdout",
          "text": [
            "Downloading data from https://storage.googleapis.com/tensorflow/tf-keras-datasets/boston_housing.npz\n",
            "57026/57026 [==============================] - 0s 0us/step\n"
          ]
        }
      ]
    },
    {
      "cell_type": "code",
      "source": [
        "train_data.shape"
      ],
      "metadata": {
        "colab": {
          "base_uri": "https://localhost:8080/"
        },
        "id": "AtLmuJirzd4z",
        "outputId": "83ade197-f65c-4a51-bd65-a4533348203d"
      },
      "execution_count": null,
      "outputs": [
        {
          "output_type": "execute_result",
          "data": {
            "text/plain": [
              "(404, 13)"
            ]
          },
          "metadata": {},
          "execution_count": 4
        }
      ]
    },
    {
      "cell_type": "code",
      "source": [
        "mean = train_data.mean(axis = 0) # 0번 축 = 칼럼들"
      ],
      "metadata": {
        "id": "hFcT2a02ziwP"
      },
      "execution_count": null,
      "outputs": []
    },
    {
      "cell_type": "code",
      "source": [
        "train_data -= mean\n",
        "#train_data = train_data - mean 과 같은 의미"
      ],
      "metadata": {
        "colab": {
          "base_uri": "https://localhost:8080/"
        },
        "id": "_ACmhtQw1wCF",
        "outputId": "170946df-8778-43c6-dd13-60246571fa71"
      },
      "execution_count": null,
      "outputs": [
        {
          "output_type": "execute_result",
          "data": {
            "text/plain": [
              "array([3.74511057e+00, 1.14801980e+01, 1.11044307e+01, 6.18811881e-02,\n",
              "       5.57355941e-01, 6.26708168e+00, 6.90106436e+01, 3.74027079e+00,\n",
              "       9.44059406e+00, 4.05898515e+02, 1.84759901e+01, 3.54783168e+02,\n",
              "       1.27408168e+01])"
            ]
          },
          "metadata": {},
          "execution_count": 7
        }
      ]
    },
    {
      "cell_type": "code",
      "source": [
        "# 표준편차 구하기\n",
        "std = train_data.std(axis = 0)"
      ],
      "metadata": {
        "id": "j7JiAODN1xH8"
      },
      "execution_count": null,
      "outputs": []
    },
    {
      "cell_type": "code",
      "source": [
        "train_data /= std\n",
        "#train_data = train_data / std 와 같은 뜻"
      ],
      "metadata": {
        "id": "wFOl4qvH2XY0"
      },
      "execution_count": null,
      "outputs": []
    },
    {
      "cell_type": "code",
      "source": [
        "mean = test_data.mean(axis = 0)\n",
        "test_data -= mean\n",
        "std = test_data.std(axis = 0)\n",
        "test_data /= std"
      ],
      "metadata": {
        "id": "QN0XbQXt3Uc4"
      },
      "execution_count": null,
      "outputs": []
    },
    {
      "cell_type": "code",
      "source": [
        "test_data"
      ],
      "metadata": {
        "colab": {
          "base_uri": "https://localhost:8080/"
        },
        "id": "mFc6oqHg37OQ",
        "outputId": "5c0976f3-88d8-4cb7-8565-cfbcc47a04f2"
      },
      "execution_count": null,
      "outputs": [
        {
          "output_type": "execute_result",
          "data": {
            "text/plain": [
              "array([[ 2.8040301 , -0.50784934,  0.96960877, ...,  0.90513041,\n",
              "        -4.27829517,  2.51324773],\n",
              "       [-0.55530596, -0.50784934, -0.17801704, ..., -0.28485844,\n",
              "         0.3909446 ,  0.58604286],\n",
              "       [-0.56808398, -0.50784934, -0.86176938, ...,  0.90513041,\n",
              "         0.41570668, -0.38506427],\n",
              "       ...,\n",
              "       [-0.23539182, -0.50784934,  1.17955762, ..., -1.82192738,\n",
              "         0.32313459, -1.55879807],\n",
              "       [-0.5113909 , -0.50784934, -0.71849348, ..., -0.48318992,\n",
              "         0.34967446, -0.38956708],\n",
              "       [-0.03148414, -0.50784934,  1.17955762, ..., -1.82192738,\n",
              "        -1.57465677, -0.3745577 ]])"
            ]
          },
          "metadata": {},
          "execution_count": 11
        }
      ]
    },
    {
      "cell_type": "code",
      "source": [
        "#신경망을 만든다.\n",
        "from keras import models\n",
        "from keras import layers\n",
        "\n",
        "def build_model():\n",
        "  model = models.Sequential()\n",
        "  model.add(layers.Dense(64, activation = 'relu', input_shape=(train_data.shape[1],)))\n",
        "  model.add(layers.Dense(64, activation = 'relu'))\n",
        "  model.add(layers.Dense(1))\n",
        "\n",
        "  model.compile(optimizer='rmsprop',\n",
        "                loss = 'mse',\n",
        "                metrics = ['mae'])\n",
        "  \n",
        "  return model"
      ],
      "metadata": {
        "id": "KC-LmYnW3-R7"
      },
      "execution_count": 20,
      "outputs": []
    },
    {
      "cell_type": "code",
      "source": [
        "# K-folder 검증\n",
        "k = 4\n",
        "\n",
        "num_val_samples = len(train_data) // k #폴더의 사이즈\n",
        "all_scores = []\n",
        "\n",
        "for i in range(k):\n",
        "  print('처리중인 폴드 #', i)\n",
        "\n",
        "  #검증 데이터 준비: k번째 분할\n",
        "  val_data = train_data[i * num_val_samples :(i + 1)* num_val_samples]\n",
        "  val_labels = train_labels[i * num_val_samples : (i + 1) * num_val_samples]\n",
        "\n",
        "  #훈련 데이터 준비\n",
        "  partial_train_data = np.concatenate(\n",
        "    [train_data[: i * num_val_samples],\n",
        "    train_data[(i + 1) * num_val_samples:]], axis = 0)\n",
        "  \n",
        "  partiala_train_labels = np.concatenate(\n",
        "    [train_labels[: i * num_val_samples],\n",
        "    train_labels[(i + 1) * num_val_samples:]], axis = 0)\n",
        "  \n",
        "  model = build_model()\n",
        "  model.fit(partial_train_data, partiala_train_labels, epochs = 20, batch_size=1,\n",
        "            verbose = 0)\n",
        "\n",
        "  val_mse, val_mae = model.evaluate(val_data, val_labels, verbose=0)\n",
        "  all_scores.append(val_mae)"
      ],
      "metadata": {
        "id": "jCoq9md68IIZ",
        "colab": {
          "base_uri": "https://localhost:8080/"
        },
        "outputId": "4d92e6b6-2dd0-44e2-ebe9-5bbd0b39441b"
      },
      "execution_count": 24,
      "outputs": [
        {
          "output_type": "stream",
          "name": "stdout",
          "text": [
            "처리중인 폴드 # 0\n",
            "처리중인 폴드 # 1\n",
            "처리중인 폴드 # 2\n",
            "처리중인 폴드 # 3\n"
          ]
        }
      ]
    },
    {
      "cell_type": "code",
      "source": [
        "all_scores"
      ],
      "metadata": {
        "colab": {
          "base_uri": "https://localhost:8080/"
        },
        "id": "60Q3IFLSAw1D",
        "outputId": "76165fb2-93c0-4a08-8688-8d43c5c2f664"
      },
      "execution_count": 25,
      "outputs": [
        {
          "output_type": "execute_result",
          "data": {
            "text/plain": [
              "[2.8055293560028076,\n",
              " 2.7780628204345703,\n",
              " 2.8977208137512207,\n",
              " 2.8250608444213867]"
            ]
          },
          "metadata": {},
          "execution_count": 25
        }
      ]
    },
    {
      "cell_type": "code",
      "source": [
        "k = 4\n",
        "num_epochs = 500\n",
        "\n",
        "num_val_samples = len(train_data) // k #폴더의 사이즈\n",
        "all_scores = []\n",
        "\n",
        "for i in range(k):\n",
        "  print('처리중인 폴드 #', i)\n",
        "\n",
        "  #검증 데이터 준비: k번째 분할\n",
        "  val_data = train_data[i * num_val_samples :(i + 1)* num_val_samples]\n",
        "  val_labels = train_labels[i * num_val_samples : (i + 1) * num_val_samples]\n",
        "\n",
        "  #훈련 데이터 준비\n",
        "  partial_train_data = np.concatenate(\n",
        "    [train_data[: i * num_val_samples],\n",
        "    train_data[(i + 1) * num_val_samples:]], axis = 0)\n",
        "  \n",
        "  partiala_train_labels = np.concatenate(\n",
        "    [train_labels[: i * num_val_samples],\n",
        "    train_labels[(i + 1) * num_val_samples:]], axis = 0)\n",
        "  \n",
        "  model = build_model()\n",
        "  history = model.fit(partial_train_data, partiala_train_labels, epochs = num_epochs, batch_size=1,\n",
        "            verbose = 0)\n",
        "\n",
        "  mae_history = history.history['mae']\n",
        "  all_scores.append(mae_history)"
      ],
      "metadata": {
        "colab": {
          "base_uri": "https://localhost:8080/"
        },
        "id": "MLrm_OicIBhy",
        "outputId": "5aeef3cb-4700-41d9-dcd8-4bffa6c576eb"
      },
      "execution_count": 26,
      "outputs": [
        {
          "output_type": "stream",
          "name": "stdout",
          "text": [
            "처리중인 폴드 # 0\n",
            "처리중인 폴드 # 1\n",
            "처리중인 폴드 # 2\n",
            "처리중인 폴드 # 3\n"
          ]
        }
      ]
    },
    {
      "cell_type": "code",
      "source": [
        "average_mae_history = [np.mean([x[i] for x in all_scores]) for i in range(num_epochs)]"
      ],
      "metadata": {
        "id": "rSkW7BWXJxV_"
      },
      "execution_count": 29,
      "outputs": []
    },
    {
      "cell_type": "code",
      "source": [
        "plt.plot(range(1, len(average_mae_history)+1), average_mae_history)\n",
        "plt.xlabel('Epochs')\n",
        "plt.ylabel('Validation MAE')"
      ],
      "metadata": {
        "colab": {
          "base_uri": "https://localhost:8080/",
          "height": 297
        },
        "id": "wr8mi7CyPpp0",
        "outputId": "566f47ba-6da8-4890-f5c4-dac652856699"
      },
      "execution_count": 30,
      "outputs": [
        {
          "output_type": "execute_result",
          "data": {
            "text/plain": [
              "Text(0, 0.5, 'Validation MAE')"
            ]
          },
          "metadata": {},
          "execution_count": 30
        },
        {
          "output_type": "display_data",
          "data": {
            "text/plain": [
              "<Figure size 432x288 with 1 Axes>"
            ],
            "image/png": "[encoded data removed]"
          },
          "metadata": {
            "needs_background": "light"
          }
        }
      ]
    },
    {
      "cell_type": "code",
      "source": [],
      "metadata": {
        "id": "Czh8Inz4QkVd"
      },
      "execution_count": null,
      "outputs": []
    }
  ]
}