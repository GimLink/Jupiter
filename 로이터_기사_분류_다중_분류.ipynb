{
  "nbformat": 4,
  "nbformat_minor": 0,
  "metadata": {
    "colab": {
      "provenance": []
    },
    "kernelspec": {
      "name": "python3",
      "display_name": "Python 3"
    },
    "language_info": {
      "name": "python"
    }
  },
  "cells": [
    {
      "cell_type": "code",
      "execution_count": null,
      "metadata": {
        "id": "rVn-ul35YGz-"
      },
      "outputs": [],
      "source": [
        "import keras\n",
        "import numpy as np\n",
        "import matplotlib.pyplot as plt"
      ]
    },
    {
      "cell_type": "code",
      "source": [
        "# 로이터 기사 데이터셋 로딩\n",
        "from keras.datasets import reuters\n",
        "(train_data, train_labels), (test_data, test_labels) = reuters.load_data(num_words=10000)"
      ],
      "metadata": {
        "id": "8E6_hqX5Ycxy"
      },
      "execution_count": null,
      "outputs": []
    },
    {
      "cell_type": "code",
      "source": [
        "train_data.shape"
      ],
      "metadata": {
        "colab": {
          "base_uri": "https://localhost:8080/"
        },
        "id": "HWmq7eo9ZN4A",
        "outputId": "0c65bea8-c94f-4e08-e978-13f631620006"
      },
      "execution_count": null,
      "outputs": [
        {
          "output_type": "execute_result",
          "data": {
            "text/plain": [
              "(8982,)"
            ]
          },
          "metadata": {},
          "execution_count": 3
        }
      ]
    },
    {
      "cell_type": "code",
      "source": [
        "test_data.shape"
      ],
      "metadata": {
        "colab": {
          "base_uri": "https://localhost:8080/"
        },
        "id": "R181yonxZWFb",
        "outputId": "b6712e4c-0fdb-404a-9b00-4776e09fd30c"
      },
      "execution_count": null,
      "outputs": [
        {
          "output_type": "execute_result",
          "data": {
            "text/plain": [
              "(2246,)"
            ]
          },
          "metadata": {},
          "execution_count": 4
        }
      ]
    },
    {
      "cell_type": "code",
      "source": [
        "train_data[0]"
      ],
      "metadata": {
        "id": "8ULayk2ZZaAK"
      },
      "execution_count": null,
      "outputs": []
    },
    {
      "cell_type": "code",
      "source": [
        "word_index = reuters.get_word_index()\n",
        "reverse_word_index = dict([(value, key) for (key, value) in word_index.items()])\n",
        "\n",
        "decoded_newswire = ' '.join([reverse_word_index.get(i-3, '?') for i in train_data[0]])"
      ],
      "metadata": {
        "colab": {
          "base_uri": "https://localhost:8080/"
        },
        "id": "UgAc9M4kZcwU",
        "outputId": "4d9fa0e8-7f23-4608-f33f-5b41747eb02b"
      },
      "execution_count": null,
      "outputs": [
        {
          "output_type": "stream",
          "name": "stdout",
          "text": [
            "Downloading data from https://storage.googleapis.com/tensorflow/tf-keras-datasets/reuters_word_index.json\n",
            "550378/550378 [==============================] - 0s 0us/step\n"
          ]
        }
      ]
    },
    {
      "cell_type": "code",
      "source": [
        "decoded_newswire"
      ],
      "metadata": {
        "colab": {
          "base_uri": "https://localhost:8080/",
          "height": 53
        },
        "id": "qBxRaiQlaXhV",
        "outputId": "eead6b1a-b8ea-4313-a4e6-e2702c7657a8"
      },
      "execution_count": null,
      "outputs": [
        {
          "output_type": "execute_result",
          "data": {
            "text/plain": [
              "'? ? ? said as a result of its december acquisition of space co it expects earnings per share in 1987 of 1 15 to 1 30 dlrs per share up from 70 cts in 1986 the company said pretax net should rise to nine to 10 mln dlrs from six mln dlrs in 1986 and rental operation revenues to 19 to 22 mln dlrs from 12 5 mln dlrs it said cash flow per share this year should be 2 50 to three dlrs reuter 3'"
            ],
            "application/vnd.google.colaboratory.intrinsic+json": {
              "type": "string"
            }
          },
          "metadata": {},
          "execution_count": 8
        }
      ]
    },
    {
      "cell_type": "code",
      "source": [
        "from numpy.lib.function_base import vectorize\n",
        "# 데이터의 준비\n",
        "def vectorize_sequences(sequences, dimension = 10000):\n",
        "\n",
        "  results = np.zeros((len(sequences), dimension))\n",
        "\n",
        "  for i, sequence in enumerate(sequences):\n",
        "    results[i, sequence] = 1\n",
        "\n",
        "  return results\n",
        "\n",
        "# 데이터 변환\n",
        "x_train = vectorize_sequences(train_data)\n",
        "x_test = vectorize_sequences(test_data)"
      ],
      "metadata": {
        "id": "IGtA_UYMaj5V"
      },
      "execution_count": null,
      "outputs": []
    },
    {
      "cell_type": "code",
      "source": [
        "train_labels"
      ],
      "metadata": {
        "colab": {
          "base_uri": "https://localhost:8080/"
        },
        "id": "2ELSt9zYb8_o",
        "outputId": "e5dd736a-e20c-4604-956f-7bfbefb0f821"
      },
      "execution_count": null,
      "outputs": [
        {
          "output_type": "execute_result",
          "data": {
            "text/plain": [
              "array([ 3,  4,  3, ..., 25,  3, 25])"
            ]
          },
          "metadata": {},
          "execution_count": 12
        }
      ]
    },
    {
      "cell_type": "code",
      "source": [
        "# 라벨 데이터의 인코딩\n",
        "\n",
        "def to_one_hot(labels, dimension = 46):\n",
        "  results = np.zeros((len(labels), dimension))\n",
        "\n",
        "  for i, sequence in enumerate(labels):\n",
        "    results[i, sequence] = 1\n",
        "\n",
        "  return results\n",
        "\n",
        "one_hot_train_labels = to_one_hot(train_labels)\n",
        "one_hot_test_labels = to_one_hot(test_labels)"
      ],
      "metadata": {
        "id": "tbxHkHxRb-rK"
      },
      "execution_count": null,
      "outputs": []
    },
    {
      "cell_type": "code",
      "source": [
        "# Categorical 데이터로 변환\n",
        "from keras.utils.np_utils import to_categorical\n",
        "one_hot_train_labels = to_categorical(train_labels)\n",
        "one_hot_test_labels = to_categorical(test_labels)"
      ],
      "metadata": {
        "id": "hk6FXI2geaUr"
      },
      "execution_count": null,
      "outputs": []
    },
    {
      "cell_type": "code",
      "source": [
        "# 신경망 구성\n",
        "from keras import models\n",
        "from keras import layers\n",
        "\n",
        "model = models.Sequential()\n",
        "model.add(layers.Dense(64, activation = 'relu', input_shape = (10000,)))\n",
        "model.add(layers.Dense(4, activation = 'relu'))\n",
        "model.add(layers.Dense(46, activation = 'softmax'))"
      ],
      "metadata": {
        "id": "JECNamoXf8tx"
      },
      "execution_count": null,
      "outputs": []
    },
    {
      "cell_type": "code",
      "source": [
        "model.compile(optimizer = 'rmsprop',\n",
        "              loss = 'categorical_crossentropy',\n",
        "              metrics = ['accuracy'])"
      ],
      "metadata": {
        "id": "aPJrVWjwg-jt"
      },
      "execution_count": null,
      "outputs": []
    },
    {
      "cell_type": "code",
      "source": [
        "# 훈련 데이터의 준비\n",
        "\n",
        "x_val = x_train[:1000]\n",
        "partial_x_train = x_train[1000:]\n",
        "y_val = one_hot_train_labels[:1000]\n",
        "partial_y_train = one_hot_train_labels[1000:]"
      ],
      "metadata": {
        "id": "GyCSA4UvhVzE"
      },
      "execution_count": null,
      "outputs": []
    },
    {
      "cell_type": "code",
      "source": [
        "history = model.fit(partial_x_train, \n",
        "                    partial_y_train,\n",
        "                    epochs=20,\n",
        "                    batch_size=512,\n",
        "                    validation_data=(x_val, y_val))"
      ],
      "metadata": {
        "colab": {
          "base_uri": "https://localhost:8080/"
        },
        "id": "9FIbujkEpCLr",
        "outputId": "c6334711-9422-4662-cf19-8050651f172a"
      },
      "execution_count": null,
      "outputs": [
        {
          "output_type": "stream",
          "name": "stdout",
          "text": [
            "Epoch 1/20\n",
            "16/16 [==============================] - 2s 67ms/step - loss: 3.4366 - accuracy: 0.0122 - val_loss: 3.0892 - val_accuracy: 0.1440\n",
            "Epoch 2/20\n",
            "16/16 [==============================] - 1s 50ms/step - loss: 2.8416 - accuracy: 0.2103 - val_loss: 2.6146 - val_accuracy: 0.2440\n",
            "Epoch 3/20\n",
            "16/16 [==============================] - 1s 53ms/step - loss: 2.3959 - accuracy: 0.2722 - val_loss: 2.2706 - val_accuracy: 0.3150\n",
            "Epoch 4/20\n",
            "16/16 [==============================] - 1s 50ms/step - loss: 2.0351 - accuracy: 0.5122 - val_loss: 1.9723 - val_accuracy: 0.6010\n",
            "Epoch 5/20\n",
            "16/16 [==============================] - 1s 51ms/step - loss: 1.7220 - accuracy: 0.6361 - val_loss: 1.7315 - val_accuracy: 0.6310\n",
            "Epoch 6/20\n",
            "16/16 [==============================] - 1s 50ms/step - loss: 1.4762 - accuracy: 0.6798 - val_loss: 1.5644 - val_accuracy: 0.6580\n",
            "Epoch 7/20\n",
            "16/16 [==============================] - 1s 50ms/step - loss: 1.3027 - accuracy: 0.6984 - val_loss: 1.4632 - val_accuracy: 0.6680\n",
            "Epoch 8/20\n",
            "16/16 [==============================] - 1s 51ms/step - loss: 1.1804 - accuracy: 0.7047 - val_loss: 1.4046 - val_accuracy: 0.6720\n",
            "Epoch 9/20\n",
            "16/16 [==============================] - 1s 50ms/step - loss: 1.0890 - accuracy: 0.7258 - val_loss: 1.3683 - val_accuracy: 0.6900\n",
            "Epoch 10/20\n",
            "16/16 [==============================] - 1s 50ms/step - loss: 1.0176 - accuracy: 0.7469 - val_loss: 1.3459 - val_accuracy: 0.6960\n",
            "Epoch 11/20\n",
            "16/16 [==============================] - 1s 50ms/step - loss: 0.9612 - accuracy: 0.7563 - val_loss: 1.3341 - val_accuracy: 0.6930\n",
            "Epoch 12/20\n",
            "16/16 [==============================] - 1s 49ms/step - loss: 0.9117 - accuracy: 0.7642 - val_loss: 1.3218 - val_accuracy: 0.6950\n",
            "Epoch 13/20\n",
            "16/16 [==============================] - 1s 50ms/step - loss: 0.8669 - accuracy: 0.7721 - val_loss: 1.3270 - val_accuracy: 0.6940\n",
            "Epoch 14/20\n",
            "16/16 [==============================] - 1s 50ms/step - loss: 0.8285 - accuracy: 0.7799 - val_loss: 1.3219 - val_accuracy: 0.7020\n",
            "Epoch 15/20\n",
            "16/16 [==============================] - 1s 50ms/step - loss: 0.7895 - accuracy: 0.7833 - val_loss: 1.3231 - val_accuracy: 0.7040\n",
            "Epoch 16/20\n",
            "16/16 [==============================] - 1s 52ms/step - loss: 0.7549 - accuracy: 0.7899 - val_loss: 1.3362 - val_accuracy: 0.7070\n",
            "Epoch 17/20\n",
            "16/16 [==============================] - 1s 50ms/step - loss: 0.7235 - accuracy: 0.7982 - val_loss: 1.3349 - val_accuracy: 0.7040\n",
            "Epoch 18/20\n",
            "16/16 [==============================] - 1s 50ms/step - loss: 0.6902 - accuracy: 0.8058 - val_loss: 1.3412 - val_accuracy: 0.7030\n",
            "Epoch 19/20\n",
            "16/16 [==============================] - 1s 50ms/step - loss: 0.6644 - accuracy: 0.8147 - val_loss: 1.3603 - val_accuracy: 0.7110\n",
            "Epoch 20/20\n",
            "16/16 [==============================] - 1s 49ms/step - loss: 0.6367 - accuracy: 0.8321 - val_loss: 1.3653 - val_accuracy: 0.7080\n"
          ]
        }
      ]
    },
    {
      "cell_type": "code",
      "source": [
        "loss = history.history['loss']\n",
        "val_loss = history.history['val_loss']\n",
        "acc = history.history['accuracy']\n",
        "val_acc = history.history['val_accuracy']\n",
        "\n",
        "epochs = range(1, len(loss) + 1)"
      ],
      "metadata": {
        "id": "iyRV4YfTpcM_"
      },
      "execution_count": null,
      "outputs": []
    },
    {
      "cell_type": "code",
      "source": [
        "# 결과를 시각화 한다. \n",
        "plt.plot(epochs, loss, 'bo', label='Training Loss')\n",
        "plt.plot(epochs, val_loss, 'b-', label='Validation Loss')\n",
        "plt.title('Training and validation loss')\n",
        "plt.xlabel('Epochs')\n",
        "plt.ylabel('Loss')\n",
        "plt.legend()"
      ],
      "metadata": {
        "colab": {
          "base_uri": "https://localhost:8080/",
          "height": 312
        },
        "id": "A6D5vY4yrbyN",
        "outputId": "e0e095de-7cb0-470a-85e5-10c45fb69cf1"
      },
      "execution_count": null,
      "outputs": [
        {
          "output_type": "execute_result",
          "data": {
            "text/plain": [
              "<matplotlib.legend.Legend at 0x7ffa50424a10>"
            ]
          },
          "metadata": {},
          "execution_count": 42
        },
        {
          "output_type": "display_data",
          "data": {
            "text/plain": [
              "<Figure size 432x288 with 1 Axes>"
            ],
            "image/png": "[encoded data removed]"
          },
          "metadata": {
            "needs_background": "light"
          }
        }
      ]
    },
    {
      "cell_type": "code",
      "source": [
        "# 결과를 시각화 한다. \n",
        "plt.plot(epochs, acc, 'bo', label='Training Accuracy')\n",
        "plt.plot(epochs, val_acc, 'b-', label='Validation Accuracy')\n",
        "plt.title('Training and validation Accuracy')\n",
        "plt.xlabel('Epochs')\n",
        "plt.ylabel('Accuracy')\n",
        "plt.legend()"
      ],
      "metadata": {
        "colab": {
          "base_uri": "https://localhost:8080/",
          "height": 312
        },
        "id": "2a7S6SMhrqOU",
        "outputId": "cc56c8a2-529b-4a47-ae1c-0b5f2172efd2"
      },
      "execution_count": null,
      "outputs": [
        {
          "output_type": "execute_result",
          "data": {
            "text/plain": [
              "<matplotlib.legend.Legend at 0x7ffa4ee7b510>"
            ]
          },
          "metadata": {},
          "execution_count": 43
        },
        {
          "output_type": "display_data",
          "data": {
            "text/plain": [
              "<Figure size 432x288 with 1 Axes>"
            ],
            "image/png": "[encoded data removed]"
          },
          "metadata": {
            "needs_background": "light"
          }
        }
      ]
    },
    {
      "cell_type": "code",
      "source": [],
      "metadata": {
        "id": "ddeidkLVsl6s"
      },
      "execution_count": null,
      "outputs": []
    }
  ]
}