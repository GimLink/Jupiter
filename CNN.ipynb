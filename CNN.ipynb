{
  "cells": [
    {
      "cell_type": "code",
      "execution_count": null,
      "id": "5a932596-6fd4-408b-8002-982176828185",
      "metadata": {
        "id": "5a932596-6fd4-408b-8002-982176828185",
        "outputId": "c99f2d01-f176-48b4-9ffd-7f4dfea4a078"
      },
      "outputs": [
        {
          "name": "stdout",
          "output_type": "stream",
          "text": [
            "Hello Azure\n"
          ]
        }
      ],
      "source": [
        "print('Hello Azure')"
      ]
    },
    {
      "cell_type": "code",
      "execution_count": null,
      "id": "3f4094de-4f2c-41f0-8963-33b703c79ecb",
      "metadata": {
        "id": "3f4094de-4f2c-41f0-8963-33b703c79ecb",
        "outputId": "2642a50e-a2c7-4579-8d30-2812a4e4a343"
      },
      "outputs": [
        {
          "name": "stdout",
          "output_type": "stream",
          "text": [
            "Requirement already satisfied: keras in c:\\miniconda\\envs\\py38_default\\lib\\site-packages (2.9.0)\n"
          ]
        }
      ],
      "source": [
        "!pip install keras"
      ]
    },
    {
      "cell_type": "code",
      "execution_count": null,
      "id": "0be59f51-c1e8-491c-8a57-2e55f4beed43",
      "metadata": {
        "id": "0be59f51-c1e8-491c-8a57-2e55f4beed43"
      },
      "outputs": [],
      "source": [
        "import os\n",
        "\n",
        "import tensorflow as tf\n",
        "from tensorflow import keras\n",
        "\n",
        "from tensorflow.keras import models\n",
        "from tensorflow.keras import layers"
      ]
    },
    {
      "cell_type": "code",
      "execution_count": null,
      "id": "f06d41bf-dfea-4870-ba2e-7d62a45baa4f",
      "metadata": {
        "id": "f06d41bf-dfea-4870-ba2e-7d62a45baa4f"
      },
      "outputs": [],
      "source": [
        "model = models.Sequential()\n",
        "model.add(layers.Conv2D(32,(3,3), activation = 'relu', input_shape = (28, 28, 1)))\n",
        "model.add(layers.MaxPooling2D((2,2)))\n",
        "model.add(layers.Conv2D(64,(3,3),activation = 'relu'))\n",
        "model.add(layers.MaxPooling2D((2,2)))\n",
        "model.add(layers.Conv2D(64,(3,3), activation = 'relu'))"
      ]
    },
    {
      "cell_type": "code",
      "execution_count": null,
      "id": "51cd0478-ef38-4498-97c1-6e37002b8a17",
      "metadata": {
        "id": "51cd0478-ef38-4498-97c1-6e37002b8a17",
        "outputId": "5833435d-eb67-4cc1-c27e-9847bb50b8d2"
      },
      "outputs": [
        {
          "name": "stdout",
          "output_type": "stream",
          "text": [
            "Model: \"sequential_1\"\n",
            "_________________________________________________________________\n",
            "Layer (type)                 Output Shape              Param #   \n",
            "=================================================================\n",
            "conv2d_2 (Conv2D)            (None, 26, 26, 32)        320       \n",
            "_________________________________________________________________\n",
            "max_pooling2d_1 (MaxPooling2 (None, 13, 13, 32)        0         \n",
            "_________________________________________________________________\n",
            "conv2d_3 (Conv2D)            (None, 11, 11, 64)        18496     \n",
            "_________________________________________________________________\n",
            "max_pooling2d_2 (MaxPooling2 (None, 5, 5, 64)          0         \n",
            "_________________________________________________________________\n",
            "conv2d_4 (Conv2D)            (None, 3, 3, 64)          36928     \n",
            "=================================================================\n",
            "Total params: 55,744\n",
            "Trainable params: 55,744\n",
            "Non-trainable params: 0\n",
            "_________________________________________________________________\n"
          ]
        }
      ],
      "source": [
        "model.summary()"
      ]
    },
    {
      "cell_type": "code",
      "execution_count": null,
      "id": "ff2289d2-8940-4e5d-8f1d-2211db8849e5",
      "metadata": {
        "id": "ff2289d2-8940-4e5d-8f1d-2211db8849e5"
      },
      "outputs": [],
      "source": [
        "model.add(layers.Flatten())\n",
        "model.add(layers.Dense(64, activation = 'relu'))\n",
        "model.add(layers.Dense(10, activation = 'softmax'))"
      ]
    },
    {
      "cell_type": "code",
      "execution_count": null,
      "id": "b330b542-22b4-4fb6-9c92-d6b1f47fc237",
      "metadata": {
        "id": "b330b542-22b4-4fb6-9c92-d6b1f47fc237",
        "outputId": "e9ab643c-da4a-4786-dbc5-226393374ef7"
      },
      "outputs": [
        {
          "name": "stdout",
          "output_type": "stream",
          "text": [
            "Model: \"sequential_1\"\n",
            "_________________________________________________________________\n",
            "Layer (type)                 Output Shape              Param #   \n",
            "=================================================================\n",
            "conv2d_2 (Conv2D)            (None, 26, 26, 32)        320       \n",
            "_________________________________________________________________\n",
            "max_pooling2d_1 (MaxPooling2 (None, 13, 13, 32)        0         \n",
            "_________________________________________________________________\n",
            "conv2d_3 (Conv2D)            (None, 11, 11, 64)        18496     \n",
            "_________________________________________________________________\n",
            "max_pooling2d_2 (MaxPooling2 (None, 5, 5, 64)          0         \n",
            "_________________________________________________________________\n",
            "conv2d_4 (Conv2D)            (None, 3, 3, 64)          36928     \n",
            "_________________________________________________________________\n",
            "flatten (Flatten)            (None, 576)               0         \n",
            "_________________________________________________________________\n",
            "dense (Dense)                (None, 64)                36928     \n",
            "_________________________________________________________________\n",
            "dense_1 (Dense)              (None, 10)                650       \n",
            "=================================================================\n",
            "Total params: 93,322\n",
            "Trainable params: 93,322\n",
            "Non-trainable params: 0\n",
            "_________________________________________________________________\n"
          ]
        }
      ],
      "source": [
        "model.summary()"
      ]
    },
    {
      "cell_type": "code",
      "execution_count": null,
      "id": "059e8dc7-3e2e-4552-ae9c-85fa09f92f87",
      "metadata": {
        "id": "059e8dc7-3e2e-4552-ae9c-85fa09f92f87",
        "outputId": "06bde69c-2f57-4099-eb56-4ac40dcd284d"
      },
      "outputs": [
        {
          "name": "stdout",
          "output_type": "stream",
          "text": [
            "Downloading data from https://storage.googleapis.com/tensorflow/tf-keras-datasets/mnist.npz\n",
            "11493376/11490434 [==============================] - 0s 0us/step\n"
          ]
        }
      ],
      "source": [
        "from tensorflow.keras.datasets import mnist\n",
        "from tensorflow.keras.utils import to_categorical\n",
        "\n",
        "(train_images, train_labels), (test_images, test_labels) = mnist.load_data()\n",
        "\n",
        "train_images = train_images.reshape((60000, 28, 28, 1))\n",
        "train_images = train_images.astype('float32')\n",
        "test_images = test_images.reshape((10000, 28, 28, 1))\n",
        "test_images = test_images.astype('float32')\n",
        "\n",
        "train_labels = to_categorical(train_labels)\n",
        "test_labels = to_categorical(test_labels)"
      ]
    },
    {
      "cell_type": "code",
      "execution_count": null,
      "id": "de57c0f3-3e3d-479c-b790-df7304efd99e",
      "metadata": {
        "id": "de57c0f3-3e3d-479c-b790-df7304efd99e",
        "outputId": "0d370a0b-6513-4e41-ed89-e49c7ca65a53"
      },
      "outputs": [
        {
          "name": "stdout",
          "output_type": "stream",
          "text": [
            "Epoch 1/5\n",
            "938/938 [==============================] - 35s 38ms/step - loss: 0.3541 - accuracy: 0.9382\n",
            "Epoch 2/5\n",
            "938/938 [==============================] - 34s 37ms/step - loss: 0.0664 - accuracy: 0.9817\n",
            "Epoch 3/5\n",
            "938/938 [==============================] - 34s 36ms/step - loss: 0.0490 - accuracy: 0.9869\n",
            "Epoch 4/5\n",
            "938/938 [==============================] - 34s 36ms/step - loss: 0.0401 - accuracy: 0.9894\n",
            "Epoch 5/5\n",
            "938/938 [==============================] - 35s 37ms/step - loss: 0.0381 - accuracy: 0.9900\n"
          ]
        },
        {
          "data": {
            "text/plain": [
              "<tensorflow.python.keras.callbacks.History at 0x1c9aab5c1f0>"
            ]
          },
          "execution_count": 11,
          "metadata": {},
          "output_type": "execute_result"
        }
      ],
      "source": [
        "model.compile(optimizer = 'rmsprop',\n",
        "             loss = 'categorical_crossentropy',\n",
        "             metrics = ['accuracy'])\n",
        "model.fit(train_images, train_labels, epochs = 5, batch_size = 64)"
      ]
    },
    {
      "cell_type": "code",
      "execution_count": null,
      "id": "b51ac570-3712-498b-9ee6-e16c7e59b9dc",
      "metadata": {
        "id": "b51ac570-3712-498b-9ee6-e16c7e59b9dc",
        "outputId": "506ef6a0-d5a0-43ab-ffc5-f002cefa0bd0"
      },
      "outputs": [
        {
          "name": "stdout",
          "output_type": "stream",
          "text": [
            "313/313 [==============================] - 2s 5ms/step - loss: 0.0432 - accuracy: 0.9896\n"
          ]
        }
      ],
      "source": [
        "test_loss, test_acc = model.evaluate(test_images, test_labels)"
      ]
    },
    {
      "cell_type": "code",
      "execution_count": null,
      "id": "f3f58f2f-a57d-4738-93e4-507031d809b0",
      "metadata": {
        "id": "f3f58f2f-a57d-4738-93e4-507031d809b0",
        "outputId": "11e4851f-0d2e-4e4c-92af-125b379f52a9"
      },
      "outputs": [
        {
          "data": {
            "text/plain": [
              "0.9896000027656555"
            ]
          },
          "execution_count": 13,
          "metadata": {},
          "output_type": "execute_result"
        }
      ],
      "source": [
        "test_acc"
      ]
    },
    {
      "cell_type": "code",
      "execution_count": null,
      "id": "247bb927-b2cd-4e1f-9440-5352477d8ba1",
      "metadata": {
        "id": "247bb927-b2cd-4e1f-9440-5352477d8ba1",
        "outputId": "d43d56f1-2d40-4488-a43b-a910325eedb3"
      },
      "outputs": [
        {
          "data": {
            "text/plain": [
              "0.0431559756398201"
            ]
          },
          "execution_count": 14,
          "metadata": {},
          "output_type": "execute_result"
        }
      ],
      "source": [
        "test_loss"
      ]
    },
    {
      "cell_type": "code",
      "execution_count": null,
      "id": "9e22e353-2c66-4c08-9da0-9110cc62fe2f",
      "metadata": {
        "id": "9e22e353-2c66-4c08-9da0-9110cc62fe2f"
      },
      "outputs": [],
      "source": []
    }
  ],
  "metadata": {
    "kernelspec": {
      "display_name": "Python 3.8 - AzureML",
      "language": "python",
      "name": "azureml_py38"
    },
    "language_info": {
      "codemirror_mode": {
        "name": "ipython",
        "version": 3
      },
      "file_extension": ".py",
      "mimetype": "text/x-python",
      "name": "python",
      "nbconvert_exporter": "python",
      "pygments_lexer": "ipython3",
      "version": "3.8.5"
    },
    "colab": {
      "provenance": []
    }
  },
  "nbformat": 4,
  "nbformat_minor": 5
}